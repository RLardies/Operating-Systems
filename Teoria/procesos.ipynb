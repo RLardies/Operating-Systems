{
 "cells": [
  {
   "cell_type": "markdown",
   "metadata": {},
   "source": [
    "# Procesos en phyton\n",
    "\n",
    "Antes de empezar es importante indicar un par de detalles relacionados con el entorno. El multiproceso en *jupyter* lo que hace es lanzar un nuevo núcleo de *jupyter* con el proceso asociado. Como ya se ha explicado en la teoría si el padre no hace un wait y el proceso hijo ha acabado se queda en estado de zombie. En el caso de *jupyter* el proceso estará zombie pero en núcleo de python ejecutado continua ejecutándose y ya no sólo ocupa memoria sino que también consume tiempo de procesamiento.\n",
    "\n",
    "En la mayoría de los casos basta con pulsar repetidamente el botón de pausa pero como es posible que que a veces no se solucione se aportan dos herramientas. La primera es para ver cuántos procesos están ejecutándose y, por tanto, probablemente zombies (salvo uno). Para ello basta con ejecutar la siguiente intrucción si estamos en Linux."
   ]
  },
  {
   "cell_type": "code",
   "execution_count": null,
   "metadata": {},
   "outputs": [],
   "source": [
    "!echo \"\\033[31;01mHay \"`ps aux | grep ipykernel | grep -v grep | wc | awk '{print $1}'`\" procesos ejecutándose\\033[00m\""
   ]
  },
  {
   "cell_type": "markdown",
   "metadata": {},
   "source": [
    "El problema es que es casi imposible determinar qué núcleos de *jupyter* se corresponden con los procesos zombie y cuales no por tanto es encesario matar todos y se reiniciará este mismo *jupyter*. Esto no implica ningún problema salvo que se olvidan las ejecuciones de celdas anteriores y es necesario volver a empezar las ejecuciones. Para eliminar estos procesos podemos ejecutar el siguiente comando de linux."
   ]
  },
  {
   "cell_type": "code",
   "execution_count": null,
   "metadata": {},
   "outputs": [],
   "source": [
    "!kill `ps aux | grep ipykernel | grep -v grep | awk '{print $2}'`"
   ]
  },
  {
   "cell_type": "markdown",
   "metadata": {},
   "source": [
    "Una vez entendido cómo funcionan los procesos vamos a ver cómo funcionan los procesos en python\n",
    "\n",
    "Lo primero que necesitamos es importar las funciones para trabajar con elementos del sistema operativo. Para ello hacemos:"
   ]
  },
  {
   "cell_type": "code",
   "execution_count": null,
   "metadata": {},
   "outputs": [],
   "source": [
    "import os"
   ]
  },
  {
   "cell_type": "markdown",
   "metadata": {},
   "source": [
    "También importamos time para poder hacer sleep y la función randint de random para poder generar números aleatorios"
   ]
  },
  {
   "cell_type": "code",
   "execution_count": null,
   "metadata": {},
   "outputs": [],
   "source": [
    "import time\n",
    "import random as rnd"
   ]
  },
  {
   "cell_type": "markdown",
   "metadata": {},
   "source": [
    "Una vez hecho vamos a crear un ejemplo:"
   ]
  },
  {
   "cell_type": "code",
   "execution_count": null,
   "metadata": {},
   "outputs": [],
   "source": [
    "def parent():\n",
    "    for i in range(10):\n",
    "        newpid = os.fork()\n",
    "        if newpid == 0:\n",
    "            time.sleep(rnd.randint(0,9))\n",
    "            print(\"Soy el hijo %d\" % os.getpid())\n",
    "            os._exit(1)\n",
    "            break\n",
    "        else:\n",
    "            pids = (os.getpid(), newpid)\n",
    "            print(\"padre: %d, hijo: %d\" % pids)\n",
    "            time.sleep(rnd.randint(0,3))\n",
    "    else:\n",
    "        pass\n",
    "    \n",
    "parent()"
   ]
  },
  {
   "cell_type": "markdown",
   "metadata": {},
   "source": [
    "El último else es se debe a una característica propia del python que no viene a cuento contar ahora mismo. Sin embargo lo que sí es importante es que los hojos no han acabado pero no han sido recogidos y, por tanto están zombies. Vamos a recogerlos del sistema operativo:"
   ]
  },
  {
   "cell_type": "code",
   "execution_count": null,
   "metadata": {},
   "outputs": [],
   "source": [
    "    print(\"Retornos:\")\n",
    "    for i in range(10): \n",
    "        a = os.wait()\n",
    "        print(a)"
   ]
  },
  {
   "cell_type": "markdown",
   "metadata": {},
   "source": [
    "## Organizando un poco\n",
    "\n",
    "Vamos a crear nuestras propias funciones Fork, Wait, Exit y RandSleep con el fin de simplificar la resolución de problemas. \n",
    "\n",
    "- El procedimiento Fork devuelve 0 o el pid del hijo.\n",
    "- El procedimiento Wait convertirá la tupla con dos elementos de _os.\\_wait_ en una tupla con tres elementos. El primero es el _pid_, el segundo el valor de retorno y el tercero el número de la señal que ha provocado la finalización del proceso.\n",
    "- El proceso Exit recibe el valor que devolverá al padre.\n",
    "- El proceso RandSleep puede recibir un parámetro que es el valor máximo de segundos que puede esperar y si no se pone el parámetro su valor por defecto es 5s."
   ]
  },
  {
   "cell_type": "code",
   "execution_count": 2,
   "metadata": {},
   "outputs": [],
   "source": [
    "from os import fork, _exit, wait, getpid, getppid\n",
    "from time import sleep\n",
    "from random import randint\n",
    "\n",
    "def RandSleep(max=5):\n",
    "    sleep(randint(0,max))\n",
    "\n",
    "def Fork():\n",
    "    pid = fork()\n",
    "    return pid\n",
    "\n",
    "def Exit(a):\n",
    "    _exit(a)\n",
    "    \n",
    "def Wait():\n",
    "    b = ()\n",
    "    try:\n",
    "        a = wait()\n",
    "    except:\n",
    "        return -1\n",
    "    b = (a[0], a[1]/256, a[1]%256)\n",
    "    return b"
   ]
  },
  {
   "cell_type": "markdown",
   "metadata": {},
   "source": [
    "## Aprendiendo a crear procesos\n",
    "\n",
    "Vamos a hacer una prueba sencilla"
   ]
  },
  {
   "cell_type": "code",
   "execution_count": null,
   "metadata": {},
   "outputs": [],
   "source": [
    "for i in range(4):\n",
    "    pid = Fork()\n",
    "    if pid:\n",
    "        print(\"Soy %d y he creado el hijo %d\" % (getpid(),pid))\n",
    "    else:\n",
    "        print(\"Soy el hijo %d y mi padre es el %d\" % (getpid(),getppid()))\n",
    "        Exit(0)\n",
    "          \n",
    "for i in range(4):\n",
    "    retv = Wait()\n",
    "    print(\"He acabado. Era el proceso %d y he acabado con valor %d debido a la señal %d\" % retv)\n",
    "    \n"
   ]
  },
  {
   "cell_type": "markdown",
   "metadata": {},
   "source": [
    "Ahora vamos a hacer algo más complejo. Vamos a resolver un pequeño problema. Queremos cada hijo lance un hijo hasta un valor dado de profundidad."
   ]
  },
  {
   "cell_type": "code",
   "execution_count": 3,
   "metadata": {},
   "outputs": [
    {
     "name": "stdout",
     "output_type": "stream",
     "text": [
      "Soy 2964, mi hijo 2965 ha devuelto 27 con la señal 0\n",
      "Soy 2963, mi hijo 2964 ha devuelto 26 con la señal 0\n",
      "Soy 2962, mi hijo 2963 ha devuelto 25 con la señal 0\n",
      "Soy 2961, mi hijo 2962 ha devuelto 24 con la señal 0\n",
      "Soy 2960, mi hijo 2961 ha devuelto 23 con la señal 0\n",
      "Soy 2959, mi hijo 2960 ha devuelto 22 con la señal 0\n",
      "Soy 2958, mi hijo 2959 ha devuelto 21 con la señal 0\n",
      "Soy 2957, mi hijo 2958 ha devuelto 20 con la señal 0\n",
      "Soy 2956, mi hijo 2957 ha devuelto 19 con la señal 0\n",
      "Soy 2955, mi hijo 2956 ha devuelto 18 con la señal 0\n",
      "Soy 2954, mi hijo 2955 ha devuelto 17 con la señal 0\n",
      "Soy 2953, mi hijo 2954 ha devuelto 16 con la señal 0\n",
      "Soy 2952, mi hijo 2953 ha devuelto 15 con la señal 0\n",
      "Soy 2951, mi hijo 2952 ha devuelto 14 con la señal 0\n",
      "Soy 2950, mi hijo 2951 ha devuelto 13 con la señal 0\n",
      "Soy 2949, mi hijo 2950 ha devuelto 12 con la señal 0\n",
      "Soy 2948, mi hijo 2949 ha devuelto 11 con la señal 0\n",
      "Soy 2947, mi hijo 2948 ha devuelto 10 con la señal 0\n",
      "Soy 2946, mi hijo 2947 ha devuelto 9 con la señal 0\n",
      "Soy 2945, mi hijo 2946 ha devuelto 8 con la señal 0\n",
      "Soy 2944, mi hijo 2945 ha devuelto 7 con la señal 0\n",
      "Soy 2943, mi hijo 2944 ha devuelto 6 con la señal 0\n",
      "Soy 2942, mi hijo 2943 ha devuelto 5 con la señal 0\n",
      "Soy 2941, mi hijo 2942 ha devuelto 4 con la señal 0\n",
      "Soy 2940, mi hijo 2941 ha devuelto 3 con la señal 0\n",
      "Soy 2939, mi hijo 2940 ha devuelto 2 con la señal 0\n",
      "Soy 2852, mi hijo 2939 ha devuelto 1 con la señal 0\n"
     ]
    }
   ],
   "source": [
    "profundidad = -1\n",
    "profundidad_max = 27\n",
    "\n",
    "def proceso():\n",
    "    global profundidad, profundidad_max\n",
    "    \n",
    "    profundidad += 1\n",
    "    \n",
    "    if profundidad<profundidad_max:\n",
    "        if Fork():\n",
    "            print(\"Soy %d\" % getpid() + \", mi hijo %d ha devuelto %d con la señal %d\" % Wait())\n",
    "        else:\n",
    "            proceso()\n",
    "            Exit(profundidad)\n",
    "    \n",
    "proceso()"
   ]
  },
  {
   "cell_type": "markdown",
   "metadata": {},
   "source": [
    "Como todos los procesos esperan a su hijo para retornar todos finalizan en orden inverso a cómo han sido creados.\n",
    "\n",
    "#### Pregunta:\n",
    "¿Por qué a pesar de ser creados de forma ordenada el menasje del padre aparece después del de muchos hijos?\n",
    "#### Ejercicio:\n",
    "Representa el árbol de procesos."
   ]
  },
  {
   "cell_type": "markdown",
   "metadata": {},
   "source": [
    "## Algo más difícil\n",
    "\n",
    "Vamos a modificar el ejemplo para que cada proceso, incluido el padre lance dos procesos y espere a que terminen los dos."
   ]
  },
  {
   "cell_type": "code",
   "execution_count": null,
   "metadata": {},
   "outputs": [],
   "source": [
    "profundidad = -1\n",
    "profundidad_max = 3\n",
    "    \n",
    "def proceso():\n",
    "    global profundidad, profundidad_max\n",
    "    \n",
    "    profundidad += 1\n",
    "    \n",
    "    if profundidad<profundidad_max:\n",
    "        if Fork():\n",
    "            if Fork():\n",
    "                print(\"Soy %d\" % getpid() + \" Mi hijo %d ha devuelto %d con la señal %d\" % Wait())\n",
    "                print(\"Soy %d\" % getpid() + \" Mi hijo %d ha devuelto %d con la señal %d\" % Wait())\n",
    "            else:\n",
    "                proceso()\n",
    "                Exit(profundidad)\n",
    "        else:\n",
    "            proceso()\n",
    "            Exit(profundidad)\n",
    "    \n",
    "proceso()\n",
    "print(\"Y yo soy el padre %s\" % getpid())"
   ]
  },
  {
   "cell_type": "markdown",
   "metadata": {},
   "source": [
    "## Problemas\n",
    "\n",
    "### Problema 1\n",
    "Dado el siguiente código en pseudoC crea un programa en python para comprobarlo partiendo de los anteriores ejemplos. Como no hay ningún wait es evidente que todos los procesos menos el padre quedan zombies. \n",
    "\n",
    "- Dibuja el árbol de procesos\n",
    "- Añade los waits necesarios para que no haya zombies\n",
    "- Muestra la salida que genera la ejecucion de este código. ¿Puede producirse otra salida?  Justifica la respuesta y si es necesario añade esperas aleatorias en distintos lugares para comprobar si la salida es determinista o si no lo es.\n",
    "\n",
    "***\n",
    "\n",
    "```\n",
    "main()\n",
    "{\n",
    "    if (fork()){\n",
    "        if (fork()){\n",
    "            printf(\"A\\n\");\n",
    "        } else {\n",
    "            printf(\"B\\n\");\n",
    "        }\n",
    "    } else\n",
    "        printf(\"C\\n\");\n",
    "    exit(0);\n",
    "}\n",
    "```\n",
    "***\n",
    "\n",
    "El código equivalente en python sin añadir nada de lo solicitado y utilizando los procedimientos definidos anteriormente está en la siguiente celda. Comprueba antes de usarlo que el código es equivalente. Añade los elementos solicitados y ejecuta el código."
   ]
  },
  {
   "cell_type": "code",
   "execution_count": null,
   "metadata": {},
   "outputs": [],
   "source": [
    "if Fork():\n",
    "    if Fork():\n",
    "        print(\"A\")\n",
    "    else:\n",
    "        print(\"B\")\n",
    "        Exit(2)\n",
    "else:\n",
    "    print(\"C\")"
   ]
  },
  {
   "cell_type": "markdown",
   "metadata": {},
   "source": [
    "### Problema 2\n",
    "\n",
    "A partir del siguiente código realiza las siguientes acciones:\n",
    "\n",
    "- Dibuja el diagrama de procesos identificando cada proceso con una letra\n",
    "- Predice la salida del código e indica si es determinista.\n",
    "- Crea un código equivalente en python.\n",
    "- Añade los wait necesarios para que no haya procesos huérfanos.\n",
    "- Añade el código necesario necesario para que los respectivos procesos padre sean los últimos en ejecutarse.\n",
    "\n",
    "***\n",
    "```\n",
    "main()\n",
    "{  \n",
    "    int i;\n",
    "    for (i=0; i<3; i++)\n",
    "        if (fork()){\n",
    "            printf(\"i=%d, soy padre\\n\",i);\n",
    "            exit(0);\n",
    "        } else {\n",
    "            printf(\"i=%d, soy hijo\\n\",i);\n",
    "            exit(0);\n",
    "        }\n",
    "}\n",
    "```\n",
    "***"
   ]
  },
  {
   "cell_type": "markdown",
   "metadata": {},
   "source": [
    "### Problema 3\n",
    "\n",
    "Cuántos procesos creamos con este código ¿Por qué no funciona correctamente? Pruébalo e investiga por qué sucede."
   ]
  },
  {
   "cell_type": "code",
   "execution_count": null,
   "metadata": {},
   "outputs": [],
   "source": [
    "i=0\n",
    "\n",
    "def principal():\n",
    "    global i\n",
    "    i += 1\n",
    "    if i < 4:\n",
    "        if Fork():\n",
    "            principal()\n",
    "        else:\n",
    "            principal()\n",
    "            Exit(i)\n",
    "\n",
    "principal()\n",
    "for i in range(7):\n",
    "    Wait()\n"
   ]
  },
  {
   "cell_type": "markdown",
   "metadata": {},
   "source": [
    "## ¿Qué pasa con las variables?\n",
    "\n",
    "Como sabemos a partir de la teoría, cuando se crea un proceso el SO copia toda la imagen del proceso para el proceso hijo. En esta situación, a partir del instante de la copia cada uno de los procesos tiene su propia variable. Sólo en el instante en el momento de crear el proceso tanto el padre como el hijo tienen el mismo valor de la variable puesto que el hijo es una copia del padre, incluidos los datos, en el instante en el que se crea el hijo.\n",
    "\n",
    "Veamos varios ejemplos.\n",
    "\n",
    "### Usando variables globales\n",
    "\n",
    "imaginemos el siguiente código en pseudoC:\n",
    "\n",
    "***\n",
    "```\n",
    "int a=0;\n",
    "max = 7\n",
    "\n",
    "main()\n",
    "{\n",
    "    if (a < 7)\n",
    "    {\n",
    "        ++a;\n",
    "        if(!fork())\n",
    "        {\n",
    "            main();\n",
    "            print (\"%d\\n\",a);\n",
    "            a += 10;\n",
    "            exit(a);\n",
    "        }\n",
    "        else exit(a);\n",
    "    }\n",
    "    else wait();\n",
    "}\n",
    "\n",
    "```\n",
    "***\n",
    "\n",
    "Implementado en python es de la siguiente forma:"
   ]
  },
  {
   "cell_type": "code",
   "execution_count": null,
   "metadata": {},
   "outputs": [],
   "source": [
    "a = 0\n",
    "max = 7\n",
    "\n",
    "def proceso():\n",
    "    global a\n",
    "    \n",
    "    if a < 7:\n",
    "        a += 1\n",
    "        if Fork() == 0:\n",
    "            proceso()\n",
    "            print(a)\n",
    "            a += 10\n",
    "            Exit(a)\n",
    "        else:\n",
    "            Wait()\n",
    "\n",
    "proceso()\n",
    "print(a)"
   ]
  },
  {
   "cell_type": "markdown",
   "metadata": {},
   "source": [
    "##### Problema\n",
    "Dibuja el esquema de procesos y explica el resultado."
   ]
  },
  {
   "cell_type": "markdown",
   "metadata": {},
   "source": [
    "# Substituyendo procesos\n",
    "\n",
    "Ya que sabemos bien lo que es un proceso vamos a ver cómo substituir un proceso por otro en tiempo de ejecución. ¿Para qué sirve esto? Pues por ejemplo, una shell de bash es un proceso y cuando nosotros ejecutamos una instrucción realmente lo que se hace es lanzar otro proceso shell que se verá substituido por la instrucción correspondiente. Existe un conjunto de instrucciones que realizan este proceso:\n",
    "\n",
    "- execl(path, arg0, arg1, ...)\n",
    "- execle(path, arg0, arg1, ..., env)\n",
    "- execlp(file, arg0, arg1, ...)\n",
    "- execlpe(file, arg0, arg1, ..., env)\n",
    "- execv(path, args)\n",
    "- execve(path, args, env)\n",
    "- execvp(file, args)\n",
    "- execvpe(file, args, env)"
   ]
  },
  {
   "cell_type": "code",
   "execution_count": null,
   "metadata": {},
   "outputs": [],
   "source": [
    "from os import execl, execle, execlp, execlpe, execv, execve, execvp, execvpe\n",
    "\n",
    "args = [\"-la\"]\n",
    "\n",
    "if Fork() == 0: \n",
    "    execvp(\"ls\",args)\n",
    "if Fork() == 0: \n",
    "    execlp(\"ls\",\"-la\")\n",
    "if Fork() == 0: \n",
    "    execlp(\"ps\",\"aux\")"
   ]
  },
  {
   "cell_type": "markdown",
   "metadata": {},
   "source": [
    "Como se puede ver no se obtiene salida alguna. Esto es porque estos comandos tienen su propio dispositivo de salida que es stdout y no el interfaz de jupyter. El stdout asociado es la shell donde se haya ejecutado jupyter. Se puede observar ahí la salida."
   ]
  },
  {
   "cell_type": "markdown",
   "metadata": {},
   "source": [
    "## Problemas de las hojas de problemas, cómo probarlos\n",
    "\n",
    "Vamos a modificar Wait para que nos de imformación por pantalla cuando el Wait lo realice un proceso sin hijos. También modificamos Fork y Exit para que nos aporten información."
   ]
  },
  {
   "cell_type": "code",
   "execution_count": 14,
   "metadata": {},
   "outputs": [],
   "source": [
    "from os import fork, _exit, wait, getpid, getppid\n",
    "from time import sleep\n",
    "from random import randint\n",
    "\n",
    "def RandSleep(max=5):\n",
    "    sleep(randint(0,max))\n",
    "\n",
    "def Exit(a):\n",
    "    print(\"Soy el proceso %d y he terminado con retorno %d\" % (getpid(),a))\n",
    "    _exit(a)\n",
    "\n",
    "def Fork():\n",
    "    pid = fork()\n",
    "    if pid:\n",
    "        print (\"Soy %d y soy el padre de %d\" % (getpid(),pid))\n",
    "    return pid\n",
    "\n",
    "\n",
    "def Wait():\n",
    "    b = ()\n",
    "    try:\n",
    "        a = wait()\n",
    "        b = (a[0], a[1]/256, a[1]%256)\n",
    "        print(\"El proceso %d\" % getpid() + \" ha realizado un Wait y ha encontrado al hijo %d retornando %d con el código de estatus %d\" % b)\n",
    "    except:\n",
    "        print(\"El proceso %d ha intentado hacer un Wait y no tiene hijos\" % getpid())\n",
    "        return False\n",
    "    return b"
   ]
  },
  {
   "cell_type": "markdown",
   "metadata": {},
   "source": [
    "Una pequeña prueba de los cambios"
   ]
  },
  {
   "cell_type": "code",
   "execution_count": null,
   "metadata": {},
   "outputs": [],
   "source": [
    "if Fork() > 0:\n",
    "    Wait()\n",
    "else:\n",
    "    Exit(2)"
   ]
  },
  {
   "cell_type": "code",
   "execution_count": null,
   "metadata": {},
   "outputs": [
    {
     "name": "stdout",
     "output_type": "stream",
     "text": [
      "Soy 2852 y soy el padre de 3341\n",
      "Soy 2852 y soy el padre de 3342\n",
      "El proceso 3343 ha intentado hacer un Wait y no tiene hijos\n",
      "Soy 2852 y soy el padre de 3341\n",
      "Soy 3342 y soy el padre de 3347\n",
      "Soy 2852 y soy el padre de 3341\n",
      "Soy 2852 y soy el padre de 3342\n",
      "Soy 2852 y soy el padre de 3343\n",
      "El proceso 3344 ha intentado hacer un Wait y no tiene hijos\n",
      "El proceso 3341 ha intentado hacer un Wait y no tiene hijos\n",
      "Soy 3342 y soy el padre de 3356\n",
      "Soy 2852 y soy el padre de 3341\n",
      "El proceso 3347 ha intentado hacer un Wait y no tiene hijos\n",
      "Soy 3341 y soy el padre de 3359\n",
      "El proceso 3356 ha intentado hacer un Wait y no tiene hijos\n",
      "El proceso 3359 ha intentado hacer un Wait y no tiene hijos\n",
      "Soy 3341 y soy el padre de 3366\n",
      "Soy 2852 y soy el padre de 3341\n",
      "Soy 2852 y soy el padre de 3342\n",
      "Soy 2852 y soy el padre de 3343\n",
      "Soy 2852 y soy el padre de 3344\n",
      "El proceso 3366 ha intentado hacer un Wait y no tiene hijos\n"
     ]
    }
   ],
   "source": [
    "\"\"\"\n",
    "main()\n",
    "{\n",
    "    int i=0;\n",
    "    pid_t pid;\n",
    "\n",
    "    while(i < 2)\n",
    "    {\n",
    "        pid = fork();\n",
    "        if(pid) fork(); \n",
    "        else wait();\n",
    "        ++i;\n",
    "    }\n",
    "    if(pid) wait();\n",
    "    wait();\n",
    "}\n",
    "\"\"\"\n",
    "\n",
    "i = 0\n",
    "while i < 2:\n",
    "    pid = Fork()\n",
    "    if pid: Fork()\n",
    "    else: Wait()\n",
    "    i += 1\n",
    "if pid: Wait()\n"
   ]
  },
  {
   "cell_type": "code",
   "execution_count": null,
   "metadata": {},
   "outputs": [],
   "source": [
    "\"\"\"\n",
    "main()\n",
    "{\n",
    "    int i=0;\n",
    "\n",
    "    while(!fork())\n",
    "    {\n",
    "        if(fork()) wait();\n",
    "        wait();\n",
    "        if(i == 1) break;\n",
    "        else i++;\n",
    "    }\n",
    "}\n",
    "\"\"\"\n",
    "\n",
    "i=0\n",
    "\n",
    "while Fork() == 0:\n",
    "    if Fork(): Wait()\n",
    "    Wait()\n",
    "    if i == 1: \n",
    "        print (\"Prueba\")\n",
    "        break\n",
    "    else: i = i+1"
   ]
  },
  {
   "cell_type": "code",
   "execution_count": null,
   "metadata": {},
   "outputs": [],
   "source": [
    "\"\"\"\n",
    "main(){\n",
    "    char d = 'A';\n",
    "\n",
    "    for( i = 0 ; i < 2 ; ++i){\n",
    "        ++d;\n",
    "        if (fork()){\n",
    "            ++d;\n",
    "            wait();\n",
    "            if(fork()){\n",
    "                ++d;\n",
    "                wait();\n",
    "            } else printf(\"Soy %c\\n\",d); \n",
    "        } else printf(\"Soy %c\\n\",d); \n",
    "    }\n",
    "}\n",
    "\"\"\"\n",
    "\n",
    "d = 'A'\n",
    "\n",
    "for i in range(2):\n",
    "    d = chr (ord(d)+1)\n",
    "    if Fork():\n",
    "        d = chr (ord(d)+1)\n",
    "        Wait()\n",
    "        if Fork():\n",
    "            Wait()\n",
    "        else: \n",
    "            print(\"FI: Soy %c, mi pid es %d y mi padre es %d\" % (d,getpid(), getppid()))\n",
    "    else: \n",
    "        print(\"FE: Soy %c, mi pid es %d y mi padre es %d\" % (d,getpid(), getppid()))"
   ]
  },
  {
   "cell_type": "code",
   "execution_count": null,
   "metadata": {},
   "outputs": [],
   "source": []
  },
  {
   "cell_type": "code",
   "execution_count": null,
   "metadata": {},
   "outputs": [],
   "source": []
  },
  {
   "cell_type": "code",
   "execution_count": null,
   "metadata": {},
   "outputs": [],
   "source": []
  }
 ],
 "metadata": {
  "kernelspec": {
   "display_name": "Python 3",
   "language": "python",
   "name": "python3"
  },
  "language_info": {
   "codemirror_mode": {
    "name": "ipython",
    "version": 3
   },
   "file_extension": ".py",
   "mimetype": "text/x-python",
   "name": "python",
   "nbconvert_exporter": "python",
   "pygments_lexer": "ipython3",
   "version": "3.6.7"
  }
 },
 "nbformat": 4,
 "nbformat_minor": 2
}
